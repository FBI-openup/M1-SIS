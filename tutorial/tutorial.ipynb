{
 "cells": [
  {
   "cell_type": "code",
   "execution_count": 59,
   "id": "5c38f094",
   "metadata": {},
   "outputs": [
    {
     "ename": "",
     "evalue": "",
     "output_type": "error",
     "traceback": [
      "\u001b[1;31mFailed to start the Kernel '.venv (Python 3.9.19)'. \n",
      "\u001b[1;31mView Jupyter <a href='command:jupyter.viewOutput'>log</a> for further details. Unknown system error -122: Unknown system error -122, mkdir '/users/eleves-a/2024/boyuan.zhang/.vscode-server/data/User/globalStorage/ms-toolsai.jupyter/version-2024.11.0/jupyter/runtime'"
     ]
    }
   ],
   "source": [
    "import vtk \n",
    "vtk.vtkLogger.SetStderrVerbosity(vtk.vtkLogger.VERBOSITY_OFF)\n",
    "import plotly.io as pio\n",
    "pio.renderers.default = \"notebook+pdf\""
   ]
  },
  {
   "cell_type": "markdown",
   "id": "9cb21069",
   "metadata": {},
   "source": [
    "# 1. Getting Started"
   ]
  },
  {
   "cell_type": "markdown",
   "id": "6ee9346d",
   "metadata": {},
   "source": [
    "A verse scenario is defined by a map, a set of agents and, if there exist multiple agents, a sensor. "
   ]
  },
  {
   "cell_type": "markdown",
   "id": "d34d63e6",
   "metadata": {},
   "source": [
    "In this section, we are going to look at how to create a simple scenario in Verse. In this scenario we will have a drone following a straight track and will avoid by moving upwards to avoid a static obstacle at known position in the track. "
   ]
  },
  {
   "cell_type": "markdown",
   "id": "5e80ec75",
   "metadata": {},
   "source": [
    "## 1.1 Instantiate map\n",
    "The map of a scenario specifies the tracks that the agents can follow. In this example, we will only look at a simple map with two types of tracks: 1) type <code>T0</code>, which describe straight track that align with x-axis and 2) type <code>TAvoidUp</code>, which describes set of tracks with upward direction that the agent can follow while avoiding the obstacle. The types of tracks will also be referred as track modes in later sections. We will discuss in detail how to create maps in later sections. In this section we will import a pre-defined map. "
   ]
  },
  {
   "cell_type": "code",
   "execution_count": 60,
   "id": "d789ceb2",
   "metadata": {},
   "outputs": [],
   "source": [
    "from tutorial_map import M3\n",
    "\n",
    "map1 = M3()"
   ]
  },
  {
   "cell_type": "markdown",
   "id": "3b120f0c",
   "metadata": {},
   "source": [
    "## 1.2 Creating agent\n",
    "To create such a scenario in Verse, we first need to create an agent for Verse. An agent in Verse is defined by a set of tactical modes, a decision logic to determine the transition between tactical modes, and a flow function that defines continuous evolution. The agent's tactical mode and decision logic are provided as python code strings and the flow function is provided as a python function. "
   ]
  },
  {
   "cell_type": "markdown",
   "id": "96d7ce5e",
   "metadata": {},
   "source": [
    "The tactical mode of the agents corresponds to an agent's decision. For example, in this drone avoidance example, the tactical mode for the agent can be <code>Normal</code> and <code>AvoidUp</code>. The decision logic also need to know the available track modes from the map. The tactical modes and track modes are provided as <code>Enums</code> to Verse.  "
   ]
  },
  {
   "cell_type": "code",
   "execution_count": 61,
   "id": "0fbb7f1f",
   "metadata": {},
   "outputs": [],
   "source": [
    "from enum import Enum, auto\n",
    "\n",
    "\n",
    "class CraftMode(Enum):\n",
    "    Normal = auto()\n",
    "    AvoidUp = auto()\n",
    "\n",
    "\n",
    "class TrackMode(Enum):\n",
    "    T0 = auto()\n",
    "    TAvoidUp = auto()"
   ]
  },
  {
   "cell_type": "markdown",
   "id": "25ec7639",
   "metadata": {},
   "source": [
    "We also require the user to provide the continuous and discrete variables of the agents together with the decision logic. The variables are provided inside class with name <code>State</code>. Variables end with <code>_mode</code> will be identify by verse as discrete variables. In the example below, <code>craft_mode</code> and <code>track_mode</code> are the discrete variables and <code>x</code>, <code>y</code>, <code>z</code>, <code>vx</code>, <code>vy</code>, <code>vz</code> are the continuous variables. The type hints for the discrete variables are necessary to associate discrete variables with the tactical modes and lane modes defined above"
   ]
  },
  {
   "cell_type": "code",
   "execution_count": 62,
   "id": "7edf89dc",
   "metadata": {},
   "outputs": [],
   "source": [
    "class State:\n",
    "    x: float\n",
    "    y: float\n",
    "    z: float\n",
    "    vx: float\n",
    "    vy: float\n",
    "    vz: float\n",
    "    craft_mode: CraftMode\n",
    "    track_mode: TrackMode\n",
    "\n",
    "    def __init__(self, x, y, z, vx, vy, vz, craft_mode, track_mode):\n",
    "        pass"
   ]
  },
  {
   "cell_type": "markdown",
   "id": "3b0ea818",
   "metadata": {},
   "source": [
    "The decision logic describe for an agent takes as input its current state and the (observable) states of the other agents if there's any, and updates the tactical mode of the ego agent. In this example, the decision logic is traight forward: When the x position of the drone is close to the obstacle (20m), the drone will start moving upward. There's no other agents in this scenario. The decision logic of the agent can be written in an expressive subset of Python inside function <code>decisionLogic</code>. "
   ]
  },
  {
   "cell_type": "code",
   "execution_count": 63,
   "id": "ba6e3ba2",
   "metadata": {},
   "outputs": [],
   "source": [
    "import copy\n",
    "\n",
    "\n",
    "def decisionLogic(ego: State, track_map):\n",
    "    next = copy.deepcopy(ego)\n",
    "    if ego.craft_mode == CraftMode.Normal:\n",
    "        if ego.x > 20:\n",
    "            next.craft_mode = CraftMode.AvoidUp\n",
    "            next.track_mode = track_map.h(ego.track_mode, ego.craft_mode, CraftMode.AvoidUp)\n",
    "    return next"
   ]
  },
  {
   "cell_type": "markdown",
   "id": "a6a323e4",
   "metadata": {},
   "source": [
    "We incoperate the above definition of tactical modes and decision logic into code strings and combine it with an imported agent flow, we can then obtain the agent for this sceanrio. "
   ]
  },
  {
   "cell_type": "code",
   "execution_count": 64,
   "id": "61837729",
   "metadata": {},
   "outputs": [],
   "source": [
    "from tutorial_agent import DroneAgent\n",
    "\n",
    "drone1 = DroneAgent(\"drone1\", file_name=\"dl_sec1.py\", t_v_pair=(1, 1), box_side=[0.4] * 3)"
   ]
  },
  {
   "cell_type": "markdown",
   "id": "9eb4979a",
   "metadata": {},
   "source": [
    "## 1.3 Creating scenario\n",
    "With the agent and map defined, we can now define the scenario."
   ]
  },
  {
   "cell_type": "code",
   "execution_count": 65,
   "id": "b046fe36",
   "metadata": {},
   "outputs": [],
   "source": [
    "from verse.scenario import Scenario\n",
    "\n",
    "scenario = Scenario()"
   ]
  },
  {
   "cell_type": "markdown",
   "id": "549cd907",
   "metadata": {},
   "source": [
    "We can set the initial condition of the agent and add the agent "
   ]
  },
  {
   "cell_type": "code",
   "execution_count": 66,
   "id": "6f54eada",
   "metadata": {},
   "outputs": [],
   "source": [
    "drone1.set_initial(\n",
    "    [[0, -0.5, -0.5, 0, 0, 0], [1, 0.5, 0.5, 0, 0, 0]], (CraftMode.Normal, TrackMode.T0)\n",
    ")\n",
    "scenario.add_agent(drone1)"
   ]
  },
  {
   "cell_type": "markdown",
   "id": "2366ed3a",
   "metadata": {},
   "source": [
    "and set the map for the sceanrio"
   ]
  },
  {
   "cell_type": "code",
   "execution_count": 67,
   "id": "a1e2a90c",
   "metadata": {},
   "outputs": [],
   "source": [
    "scenario.set_map(map1)"
   ]
  },
  {
   "cell_type": "markdown",
   "id": "52b2b0cb",
   "metadata": {},
   "source": [
    "Since we only have one agent in the scenario, we don't need to specify a sensor. "
   ]
  },
  {
   "cell_type": "markdown",
   "id": "b9e32951",
   "metadata": {},
   "source": [
    "We can then compute simulation traces or reachable states for the scenario"
   ]
  },
  {
   "cell_type": "code",
   "execution_count": 68,
   "id": "cc1cdb50",
   "metadata": {},
   "outputs": [],
   "source": [
    "traces_simu = scenario.simulate(60, 0.2)\n",
    "traces_veri = scenario.verify(60, 0.2)"
   ]
  },
  {
   "cell_type": "markdown",
   "id": "4e33613e",
   "metadata": {},
   "source": [
    "We can visualize the results using functions provided with Verse"
   ]
  },
  {
   "cell_type": "code",
   "execution_count": null,
   "id": "6291c5d6",
   "metadata": {},
   "outputs": [],
   "source": [
    "%pip install nbformat\n",
    "import sys\n",
    "print(\"Python executable:\", sys.executable)\n",
    "import nbformat\n",
    "print(\"nbformat version:\", nbformat.__version__)\n"
   ]
  },
  {
   "cell_type": "code",
   "execution_count": null,
   "id": "c1d70fcf",
   "metadata": {},
   "outputs": [],
   "source": [
    "from verse.plotter.plotter3D import *\n",
    "\n",
    "import pyvista as pv\n",
    "import warnings\n",
    "\n",
    "warnings.filterwarnings(\"ignore\")\n",
    "from verse.plotter.plotter2D import *\n",
    "import plotly.graph_objects as go\n",
    "\n",
    "# 设置 Plotly 渲染器为浏览器\n",
    "pio.renderers.default = \"browser\"\n",
    "\n",
    "fig = go.Figure()\n",
    "fig = reachtube_tree(traces_veri, None, fig, 1, 3)\n",
    "fig.show()\n",
    "\n",
    "pv.set_jupyter_backend(None)\n",
    "fig = pv.Plotter()\n",
    "fig = plot3dMap(map1, ax=fig)\n",
    "fig = plot3dReachtube(traces_veri, \"drone1\", 1, 2, 3, color=\"r\", ax=fig)\n",
    "fig.set_background(\"#e0e0e0\")\n",
    "fig.show()"
   ]
  },
  {
   "cell_type": "markdown",
   "id": "1e162f7f",
   "metadata": {},
   "source": [
    "# 2. Adding multiple agents"
   ]
  },
  {
   "cell_type": "markdown",
   "id": "e947eec4",
   "metadata": {},
   "source": [
    "In the previous section, we played around with a scenario with a single drone. In this example, we will create a scenario with multiple agents and explore the potential of Verse to handle multi-agent scenarios. "
   ]
  },
  {
   "cell_type": "markdown",
   "id": "7c233fa9",
   "metadata": {},
   "source": [
    "In this example, we will look at a two drone collision avoidance example. In this example, we have two drones running in a map with three parallel tracks arranged in vertical directions. The two drones are running in the same direction on the middle track. However, the later drone is moving faster than the drone in the front and it will perform a track switch while getting close to the front drone to avoid collision. "
   ]
  },
  {
   "cell_type": "markdown",
   "id": "cbe185ab",
   "metadata": {},
   "source": [
    "We will first setup a new scenario and add the map."
   ]
  },
  {
   "cell_type": "code",
   "execution_count": 71,
   "id": "a7ce4fd2",
   "metadata": {},
   "outputs": [],
   "source": [
    "from verse.scenario import Scenario\n",
    "from tutorial_map import M4\n",
    "\n",
    "scenario = Scenario()\n",
    "scenario.set_map(M4())"
   ]
  },
  {
   "cell_type": "code",
   "execution_count": 72,
   "id": "08233db2",
   "metadata": {},
   "outputs": [],
   "source": [
    "from enum import Enum, auto\n",
    "\n",
    "\n",
    "class CraftMode(Enum):\n",
    "    Normal = auto()\n",
    "    MoveUp = auto()\n",
    "    MoveDown = auto()\n",
    "\n",
    "\n",
    "class TrackMode(Enum):\n",
    "    T0 = auto()\n",
    "    T1 = auto()\n",
    "    T2 = auto()\n",
    "    M01 = auto()\n",
    "    M10 = auto()\n",
    "    M12 = auto()\n",
    "    M21 = auto()\n",
    "\n",
    "\n",
    "class State:\n",
    "    x: float\n",
    "    y: float\n",
    "    z: float\n",
    "    vx: float\n",
    "    vy: float\n",
    "    vz: float\n",
    "    craft_mode: CraftMode\n",
    "    track_mode: TrackMode\n",
    "\n",
    "    def __init__(self, x, y, z, vx, vy, vz, craft_mode, track_mode):\n",
    "        pass"
   ]
  },
  {
   "cell_type": "markdown",
   "id": "38300e84",
   "metadata": {},
   "source": [
    "Verse's decision logic support python <code>any</code> and <code>all</code> functions, which allows the decision logic to quantify over other agents in the scenario. This enable user to easily create multi-agent scenario. In addition, the support of user defined functions, such as the <code>is_close</code> function in example, enable user to write more complicated decision logic. In this case, the decision logic will take an additional argument <code>others</code>, which provides the states for other agents. Notice the type hint for both <code>ego</code> and <code>others</code>. The updated agent's decision logic looks like following."
   ]
  },
  {
   "cell_type": "code",
   "execution_count": 74,
   "id": "57d0747c",
   "metadata": {},
   "outputs": [],
   "source": [
    "from typing import List\n",
    "import copy\n",
    "\n",
    "\n",
    "def is_close(ego, other):\n",
    "    res = (\n",
    "        (other.x - ego.x < 10 and other.x - ego.x > 8)\n",
    "        or (other.y - ego.y < 10 and other.y - ego.y > 8)\n",
    "        or (other.z - ego.z < 10 and other.z - ego.z > 8)\n",
    "    )\n",
    "    return res\n",
    "\n",
    "\n",
    "def decisionLogic(ego: State, others: List[State], track_map):\n",
    "    next = copy.deepcopy(ego)\n",
    "\n",
    "    if ego.craft_mode == CraftMode.Normal:\n",
    "        if any(\n",
    "            ego.x < other.x and (is_close(ego, other) and ego.track_mode == other.track_mode)\n",
    "            for other in others\n",
    "        ):\n",
    "            if track_map.h_exist(ego.track_mode, ego.craft_mode, CraftMode.MoveUp):\n",
    "                next.craft_mode = CraftMode.MoveUp\n",
    "                next.track_mode = track_map.h(ego.track_mode, ego.craft_mode, CraftMode.MoveUp)\n",
    "            if track_map.h_exist(ego.track_mode, ego.craft_mode, CraftMode.MoveDown):\n",
    "                next.craft_mode = CraftMode.MoveDown\n",
    "                next.track_mode = track_map.h(ego.track_mode, ego.craft_mode, CraftMode.MoveDown)\n",
    "\n",
    "    if ego.craft_mode == CraftMode.MoveUp:\n",
    "        if (\n",
    "            track_map.altitude(ego.track_mode) - ego.z > -1\n",
    "            and track_map.altitude(ego.track_mode) - ego.z < 1\n",
    "        ):\n",
    "            next.craft_mode = CraftMode.Normal\n",
    "            if track_map.h_exist(ego.track_mode, ego.craft_mode, CraftMode.Normal):\n",
    "                next.track_mode = track_map.h(ego.track_mode, ego.craft_mode, CraftMode.Normal)\n",
    "\n",
    "    if ego.craft_mode == CraftMode.MoveDown:\n",
    "        if (\n",
    "            track_map.altitude(ego.track_mode) - ego.z > -1\n",
    "            and track_map.altitude(ego.track_mode) - ego.z < 1\n",
    "        ):\n",
    "            next.craft_mode = CraftMode.Normal\n",
    "            if track_map.h_exist(ego.track_mode, ego.craft_mode, CraftMode.Normal):\n",
    "                next.track_mode = track_map.h(ego.track_mode, ego.craft_mode, CraftMode.Normal)\n",
    "\n",
    "    return next"
   ]
  },
  {
   "cell_type": "markdown",
   "id": "7c927d21",
   "metadata": {},
   "source": [
    "With the updated decision logic, we can now spawn the two agents with their initial conditions. "
   ]
  },
  {
   "cell_type": "code",
   "execution_count": 75,
   "id": "2187c4b7",
   "metadata": {},
   "outputs": [],
   "source": [
    "from tutorial_agent import DroneAgent\n",
    "\n",
    "drone1 = DroneAgent(\"drone1\", file_name=\"dl_sec2.py\", t_v_pair=(1, 1), box_side=[0.4] * 3)\n",
    "drone1.set_initial(\n",
    "    [[1.5, -0.5, -0.5, 0, 0, 0], [2.5, 0.5, 0.5, 0, 0, 0]], (CraftMode.Normal, TrackMode.T1)\n",
    ")\n",
    "\n",
    "drone2 = DroneAgent(\"drone2\", file_name=\"dl_sec2.py\", t_v_pair=(1, 0.5), box_side=[0.4] * 3)\n",
    "drone2.set_initial(\n",
    "    [[19.5, -0.5, -0.5, 0, 0, 0], [20.5, 0.5, 0.5, 0, 0, 0]], (CraftMode.Normal, TrackMode.T1)\n",
    ")"
   ]
  },
  {
   "cell_type": "markdown",
   "id": "518d6ea4",
   "metadata": {},
   "source": [
    "We can then add both agents to the scenario"
   ]
  },
  {
   "cell_type": "code",
   "execution_count": 76,
   "id": "a16287c3",
   "metadata": {},
   "outputs": [],
   "source": [
    "scenario.add_agent(drone1)\n",
    "scenario.add_agent(drone2)"
   ]
  },
  {
   "cell_type": "markdown",
   "id": "468ca941",
   "metadata": {},
   "source": [
    "With multiple agents in the scenario, we now need to add the sensor. The sensor defines how an agent is visible to other agents. In this example, we will use the default sensor function, which allows all agents to see all variables of other agents. "
   ]
  },
  {
   "cell_type": "code",
   "execution_count": 77,
   "id": "d39dbe69",
   "metadata": {},
   "outputs": [],
   "source": [
    "from tutorial_sensor import DefaultSensor\n",
    "\n",
    "scenario.set_sensor(DefaultSensor())"
   ]
  },
  {
   "cell_type": "markdown",
   "id": "db79f70b",
   "metadata": {},
   "source": [
    "With the scenario fully constructed, we can now simulte or verify the scenario using the simulate/verify function provided by Verse. "
   ]
  },
  {
   "cell_type": "code",
   "execution_count": null,
   "id": "c48ad5ad",
   "metadata": {},
   "outputs": [],
   "source": [
    "traces_simu = scenario.simulate(60, 0.2)\n",
    "traces_veri = scenario.verify(60, 0.2)"
   ]
  },
  {
   "cell_type": "markdown",
   "id": "fe9981ec",
   "metadata": {},
   "source": [
    "We can visualize the results using functions provided with Verse"
   ]
  },
  {
   "cell_type": "code",
   "execution_count": null,
   "id": "5d180128",
   "metadata": {},
   "outputs": [],
   "source": [
    "from verse.plotter.plotter3D import *\n",
    "import pyvista as pv\n",
    "import warnings\n",
    "\n",
    "warnings.filterwarnings(\"ignore\")\n",
    "\n",
    "from verse.plotter.plotter2D import *\n",
    "import plotly.graph_objects as go\n",
    "\n",
    "fig = go.Figure()\n",
    "fig = reachtube_tree(traces_veri, None, fig, 1, 3)\n",
    "fig.show()\n",
    "\n",
    "pv.set_jupyter_backend(None)\n",
    "fig = pv.Plotter()\n",
    "fig = plot3dMap(M4(), ax=fig)\n",
    "fig = plot3dReachtube(traces_veri, \"drone1\", 1, 2, 3, color=\"r\", ax=fig)\n",
    "fig = plot3dReachtube(traces_veri, \"drone2\", 1, 2, 3, color=\"b\", ax=fig)\n",
    "fig.set_background(\"#e0e0e0\")\n",
    "fig.show()"
   ]
  },
  {
   "cell_type": "markdown",
   "id": "42c81f78",
   "metadata": {},
   "source": [
    "# 3. Adding safety assertions"
   ]
  },
  {
   "cell_type": "code",
   "execution_count": 46,
   "id": "9f137299",
   "metadata": {},
   "outputs": [],
   "source": [
    "from enum import Enum, auto\n",
    "\n",
    "\n",
    "class CraftMode(Enum):\n",
    "    Normal = auto()\n",
    "    MoveUp = auto()\n",
    "    MoveDown = auto()\n",
    "\n",
    "\n",
    "class TrackMode(Enum):\n",
    "    T0 = auto()\n",
    "    T1 = auto()\n",
    "    T2 = auto()\n",
    "    M01 = auto()\n",
    "    M10 = auto()\n",
    "    M12 = auto()\n",
    "    M21 = auto()\n",
    "\n",
    "\n",
    "class State:\n",
    "    x: float\n",
    "    y: float\n",
    "    z: float\n",
    "    vx: float\n",
    "    vy: float\n",
    "    vz: float\n",
    "    craft_mode: CraftMode\n",
    "    track_mode: TrackMode\n",
    "\n",
    "    def __init__(self, x, y, z, vx, vy, vz, craft_mode, track_mode):\n",
    "        pass"
   ]
  },
  {
   "cell_type": "markdown",
   "id": "ea4a9f2c",
   "metadata": {},
   "source": [
    "Verse allow checking safety conditions while performing simulation and verification. The safety conditions in verse can be specified using Python assert statements in the decision logic. With the <code>any</code> and <code>all</code> functions, the user can also define safety conditions between different agents. In this example, we are going to add two safety conditions: 1) the distance between two agents in all x,y,z direction should always be greater than or equal to 1.0m and 2) both drones should never enter region $40\\leq x\\leq 50$, $-5\\leq y\\leq 5$, $-10\\leq z\\leq -6$. The two safety asserts in the <code>decisionLogic</code> is shown below. "
   ]
  },
  {
   "cell_type": "code",
   "execution_count": 47,
   "id": "7a5d64cb",
   "metadata": {},
   "outputs": [],
   "source": [
    "from typing import List\n",
    "import copy\n",
    "\n",
    "\n",
    "def decisionLogic(ego: State, others: List[State], track_map):\n",
    "    next = copy.deepcopy(ego)\n",
    "    \"\"\"\n",
    "    \"\"\"\n",
    "\n",
    "    assert not any(\n",
    "        ego.x - other.x < 1\n",
    "        and ego.x - other.x > -1\n",
    "        and ego.y - other.y < 1\n",
    "        and ego.y - other.y > -1\n",
    "        and ego.z - other.z < 1\n",
    "        and ego.z - other.z > -1\n",
    "        for other in others\n",
    "    ), \"Safe Seperation\"\n",
    "\n",
    "    assert not (\n",
    "        ego.x > 40 and ego.x < 50 and ego.y > -5 and ego.y < 5 and ego.z > -10 and ego.z < -6\n",
    "    ), \"Unsafe Region\"\n",
    "\n",
    "    return next"
   ]
  },
  {
   "cell_type": "markdown",
   "id": "361154ca",
   "metadata": {},
   "source": [
    "We can then construct the two agents and the scenario exactly as previous section."
   ]
  },
  {
   "cell_type": "code",
   "execution_count": 48,
   "id": "4251f544",
   "metadata": {},
   "outputs": [],
   "source": [
    "from verse.scenario import Scenario\n",
    "from tutorial_map import M4\n",
    "\n",
    "scenario = Scenario()\n",
    "scenario.set_map(M4())\n",
    "\n",
    "from tutorial_agent import DroneAgent\n",
    "\n",
    "drone1 = DroneAgent(\"drone1\", file_name=\"dl_sec3.py\", t_v_pair=(1, 1), box_side=[0.4] * 3)\n",
    "drone1.set_initial(\n",
    "    [[1.5, -0.5, -0.5, 0, 0, 0], [2.5, 0.5, 0.5, 0, 0, 0]], (CraftMode.Normal, TrackMode.T1)\n",
    ")\n",
    "scenario.add_agent(drone1)\n",
    "\n",
    "drone2 = DroneAgent(\"drone2\", file_name=\"dl_sec3.py\", t_v_pair=(1, 0.5), box_side=[0.4] * 3)\n",
    "drone2.set_initial(\n",
    "    [[19.5, -0.5, -0.5, 0, 0, 0], [20.5, 0.5, 0.5, 0, 0, 0]], (CraftMode.Normal, TrackMode.T1)\n",
    ")\n",
    "scenario.add_agent(drone2)\n",
    "\n",
    "from tutorial_sensor import DefaultSensor\n",
    "\n",
    "scenario.set_sensor(DefaultSensor())"
   ]
  },
  {
   "cell_type": "markdown",
   "id": "5cb2f06a",
   "metadata": {},
   "source": [
    "We can then simulate and verify the scenario and visualize the result. We can see from the result that drone1 enters the unsafe region, which causes a safety condition violation."
   ]
  },
  {
   "cell_type": "code",
   "execution_count": null,
   "id": "736897de",
   "metadata": {},
   "outputs": [],
   "source": [
    "traces_simu = scenario.simulate(60, 0.2)\n",
    "traces_veri = scenario.verify(60, 0.2)"
   ]
  },
  {
   "cell_type": "code",
   "execution_count": null,
   "id": "e31dc9ff",
   "metadata": {},
   "outputs": [],
   "source": [
    "from verse.plotter.plotter3D import *\n",
    "import pyvista as pv\n",
    "import warnings\n",
    "\n",
    "warnings.filterwarnings(\"ignore\")\n",
    "\n",
    "from verse.plotter.plotter2D import *\n",
    "import plotly.graph_objects as go\n",
    "\n",
    "fig = go.Figure()\n",
    "fig = reachtube_tree(traces_veri, None, fig, 1, 3)\n",
    "fig.show()\n",
    "\n",
    "pv.set_jupyter_backend(None)\n",
    "fig = pv.Plotter()\n",
    "fig = plot3dMap(M4(), ax=fig)\n",
    "fig = plot3dReachtube(traces_veri, \"drone1\", 1, 2, 3, color=\"r\", ax=fig)\n",
    "fig = plot3dReachtube(traces_veri, \"drone2\", 1, 2, 3, color=\"b\", ax=fig)\n",
    "fig.set_background(\"#e0e0e0\")\n",
    "fig.show()"
   ]
  },
  {
   "cell_type": "markdown",
   "id": "351d0b71",
   "metadata": {},
   "source": [
    "# 4. Creating agent flow function"
   ]
  },
  {
   "cell_type": "markdown",
   "id": "9ed472ab",
   "metadata": {},
   "source": [
    "In previous sections, we discussed about how to create the decision logic for agents in Verse, in section we will look into detail about how the agent flows are specified and how the pieces are combined together for an agent in Verse. "
   ]
  },
  {
   "cell_type": "markdown",
   "id": "6cf00e24",
   "metadata": {},
   "source": [
    "In this example, we will look at a simple kinetic bicycle model. The dynamics equations of the car are given by \n",
    "$$\\dot{x} = v cos(\\theta)$$\n",
    "$$\\dot{y} = v sin(\\theta)$$\n",
    "$$\\dot{\\theta} = \\frac{v}{L}*tan(\\delta)$$\n",
    "$$\\dot{v} = a$$\n",
    "which are implemented as in the <code>car_dynamics</code> function below"
   ]
  },
  {
   "cell_type": "code",
   "execution_count": 49,
   "id": "423d88ed",
   "metadata": {},
   "outputs": [],
   "source": [
    "import numpy as np\n",
    "\n",
    "\n",
    "def car_dynamics(t, state, u):\n",
    "    x, y, theta, v = state\n",
    "    delta, a = u\n",
    "    x_dot = v * np.cos(theta + delta)\n",
    "    y_dot = v * np.sin(theta + delta)\n",
    "    theta_dot = v / 1.75 * np.tan(delta)\n",
    "    v_dot = a\n",
    "    return [x_dot, y_dot, theta_dot, v_dot]"
   ]
  },
  {
   "cell_type": "markdown",
   "id": "dd2ddad5",
   "metadata": {},
   "source": [
    "The flow function define the continuous time evolution of agents' continuous states. It takes as input the initial states of the agent and the a time, and outputs the state of the agent from that initial states at that time. In Verse, the flow function is implemented by the <code>TC_simulate</code> function in the agent class. The <code>TC_simulate</code> takes as input a mode, a initial continuous states, a time bound, a simulation time step and the map. It will output simulation of agent dynamics at given mode starting from the initial continuous states, until the time bound with time step as an np array. Below shows an implementation of the <code>TC_simulate</code> function for the car agent. Note some detail helper functions for the car dynamics placed in <code>tutorial_utils</code> are not shown explicitly in the example below. "
   ]
  },
  {
   "cell_type": "code",
   "execution_count": 50,
   "id": "c1dda851",
   "metadata": {},
   "outputs": [],
   "source": [
    "from tutorial_utils import car_action_handler\n",
    "from typing import List\n",
    "import numpy as np\n",
    "from scipy.integrate import ode\n",
    "\n",
    "def TC_simulate(\n",
    "    mode: List[str], init, time_bound, time_step, lane_map: LaneMap = None\n",
    "):\n",
    "    time_bound = float(time_bound)\n",
    "    num_points = int(np.ceil(time_bound / time_step))\n",
    "    trace = np.zeros((num_points + 1, 1 + len(init)))\n",
    "    trace[1:, 0] = [round(i * time_step, 10) for i in range(num_points)]\n",
    "    trace[0, 1:] = init\n",
    "    for i in range(num_points):\n",
    "        steering, a = car_action_handler(mode, init, lane_map)\n",
    "        r = ode(car_dynamics)\n",
    "        r.set_initial_value(init).set_f_params([steering, a])\n",
    "        res: np.ndarray = r.integrate(r.t + time_step)\n",
    "        init = res.flatten()\n",
    "        if init[3] < 0:\n",
    "            init[3] = 0\n",
    "        trace[i + 1, 0] = time_step * (i + 1)\n",
    "        trace[i + 1, 1:] = init\n",
    "    return trace"
   ]
  },
  {
   "cell_type": "markdown",
   "id": "3c2e6579",
   "metadata": {},
   "source": [
    "With the <code>TC_simulate</code> function specified, we can now combine all parts together to construct a new car agent. An agent class for Verse should have four attributes: 1) <code>id</code>: an unique identifier for each agent in a scenario, 2) <code>controller</code>: a <code>ControllerIR</code> object, which is an intermediate representation of decisionLogic in Verse. It can be constructed automatically by passing in the decision logic code strings described in previous sections, 3) <code>TC_simulate</code> function, and 4) functions for setting initial condition of the agent, which can be inherited from <code>BaseAgent</code> class. "
   ]
  },
  {
   "cell_type": "code",
   "execution_count": 51,
   "id": "86626628",
   "metadata": {},
   "outputs": [],
   "source": [
    "from verse.parser.parser import ControllerIR\n",
    "from verse.agents import BaseAgent\n",
    "\n",
    "\n",
    "class CarAgent(BaseAgent):\n",
    "    def __init__(self, id, code=None, file_name=None):\n",
    "        self.id = id\n",
    "        self.decision_logic = ControllerIR.parse(code, file_name)\n",
    "        self.TC_simulate = TC_simulate"
   ]
  },
  {
   "cell_type": "markdown",
   "id": "2a233433",
   "metadata": {},
   "source": [
    "We are going to test this CarAgent in a two car scenario with simple braking decision logic in an one track map. We can setup the scenario in Verse as we discussed in the previous section and simulate/verify the scenario. The results are visualized below. "
   ]
  },
  {
   "cell_type": "code",
   "execution_count": null,
   "id": "4bd24ae3",
   "metadata": {},
   "outputs": [],
   "source": [
    "from enum import Enum, auto\n",
    "\n",
    "\n",
    "class AgentMode(Enum):\n",
    "    Normal = auto()\n",
    "    Brake = auto()\n",
    "\n",
    "\n",
    "class TrackMode(Enum):\n",
    "    T0 = auto()\n",
    "\n",
    "\n",
    "from verse.scenario import Scenario\n",
    "from tutorial_map import M1\n",
    "\n",
    "scenario = Scenario()\n",
    "scenario.set_map(M1())\n",
    "\n",
    "\n",
    "car1 = CarAgent(\"car1\", file_name=\"dl_sec4.py\")\n",
    "car1.set_initial([[0, -0.5, 0, 2], [1, 0.5, 0, 2]], (AgentMode.Normal, TrackMode.T0))\n",
    "car2 = CarAgent(\"car2\", file_name=\"dl_sec4.py\")\n",
    "car2.set_initial([[15, -0.5, 0, 1], [16, 0.5, 0, 1]], (AgentMode.Normal, TrackMode.T0))\n",
    "scenario.add_agent(car1)\n",
    "scenario.add_agent(car2)\n",
    "\n",
    "traces_simu = scenario.simulate(10, 0.01)\n",
    "traces_veri = scenario.verify(10, 0.01)\n",
    "\n",
    "import plotly.graph_objects as go\n",
    "from verse.plotter.plotter2D import *\n",
    "\n",
    "fig = go.Figure()\n",
    "fig = simulation_tree(traces_simu, None, fig, 0, 1, [0, 1], \"lines\", \"trace\")\n",
    "fig.show()\n",
    "\n",
    "fig = go.Figure()\n",
    "fig = reachtube_tree(traces_veri, None, fig, 0, 1, [0, 1], \"lines\", \"trace\")\n",
    "fig.show()"
   ]
  },
  {
   "cell_type": "markdown",
   "id": "cc352cda",
   "metadata": {},
   "source": [
    "# 5. Creating map"
   ]
  },
  {
   "cell_type": "markdown",
   "id": "03337bcd",
   "metadata": {},
   "source": [
    "In this section, we will look at how to create a map for Verse by extending the map we used in the previous section from 1 lane to 2 lanes. "
   ]
  },
  {
   "cell_type": "markdown",
   "id": "2a52935f",
   "metadata": {},
   "source": [
    "The map will contain a set of tracks, that the agent's continuous dynamics roughly follows. In addition, we also assume that an agent's decision logic does not depend on exactly which of the infinitely many tracks it is following, but instead, it depends only on which type of track it is following, or the track mode. In this example, as shown in the figure below, each of the lanes will have a track mode <code>T0</code> and <code>T1</code>. In Verse, we can create the two types of tracks <code>T0</code> and <code>T1</code> using the <code>Lane</code> object, with each of them having one straight segment constructed by <code>StraightLane</code> as shown below. \n"
   ]
  },
  {
   "cell_type": "code",
   "execution_count": 53,
   "id": "da8a96ab",
   "metadata": {},
   "outputs": [],
   "source": [
    "from verse.map.lane_segment import StraightLane\n",
    "from verse.map.lane import Lane\n",
    "\n",
    "segment0 = StraightLane(\"seg0\", [0, 0], [500, 0], 3)\n",
    "lane0 = Lane(\"T0\", [segment0])\n",
    "segment1 = StraightLane(\"seg1\", [0, 3], [500, 3], 3)\n",
    "lane1 = Lane(\"T1\", [segment1])"
   ]
  },
  {
   "cell_type": "markdown",
   "id": "65637135",
   "metadata": {},
   "source": [
    "Verse currently implments <code>StraightLane</code> and <code>CircularLane</code>, which corresponding to straight line and circular curves. In addition, we allow each <code>Lane</code> to have multiple concatenated <code>StraightLane</code> or <code>CircularLane</code>."
   ]
  },
  {
   "cell_type": "markdown",
   "id": "5970d58e",
   "metadata": {},
   "source": [
    "In addition, we also define the transition between tracks. For example, every track for transitioning from point on <code>T0</code> to a corresponding point on <code>T1</code> has track mode <code>M01</code>. Therefore, in this example, our map will have a total of 4 track modes <code>T0</code>, <code>T1</code>, <code>M01</code>, and <code>M10</code>. \n",
    "\n",
    "![map_2lanes_lab](map_2lanes_lab.png)\n"
   ]
  },
  {
   "cell_type": "markdown",
   "id": "9f9d68a4",
   "metadata": {},
   "source": [
    "The map will have a mapping function <code>g</code>, which can provide the track that the agent is following given a track mode and the agent's current position. In this example, we can inherit the g function from the base class <code>LaneMap</code>"
   ]
  },
  {
   "cell_type": "markdown",
   "id": "e59e32a8",
   "metadata": {},
   "source": [
    "Finally, a Verse agent's decision logic can change its interal or tactical mode (E.g. <code>Normal</code> to <code>SwitchLeft</code>). When an agent changes its tactical mode, it may also update the track it's following and this is encoded in another function <code>h</code>, which takes the current track mode, the current and the next tactical mode, and generates the new track mode the agent should follow. In this example, the agents have tacical mode <code>Normal</code>, <code>SwitchLeft</code> and <code>SwitchRight</code>. Therefore, an example <code>h</code> function looks like following. "
   ]
  },
  {
   "cell_type": "code",
   "execution_count": 54,
   "id": "1eea573f",
   "metadata": {},
   "outputs": [],
   "source": [
    "h_dict = {\n",
    "    (\"T0\", \"Normal\", \"SwitchLeft\"): \"M01\",\n",
    "    (\"T1\", \"Normal\", \"SwitchRight\"): \"M10\",\n",
    "    (\"M01\", \"SwitchLeft\", \"Normal\"): \"T1\",\n",
    "    (\"M10\", \"SwitchRight\", \"Normal\"): \"T0\",\n",
    "}\n",
    "\n",
    "\n",
    "def h(lane_idx, agent_mode_src, agent_mode_dest):\n",
    "    return h_dict[(lane_idx, agent_mode_src, agent_mode_dest)]\n",
    "\n",
    "\n",
    "def h_exist(lane_idx, agent_mode_src, agent_mode_dest):\n",
    "    return (lane_idx, agent_mode_src, agent_mode_dest) in h_dict"
   ]
  },
  {
   "cell_type": "markdown",
   "id": "399d2b4a",
   "metadata": {},
   "source": [
    "With all these pieces, we can now create the map for this scenario."
   ]
  },
  {
   "cell_type": "code",
   "execution_count": 55,
   "id": "e22b8006",
   "metadata": {},
   "outputs": [],
   "source": [
    "from verse.map import LaneMap\n",
    "\n",
    "\n",
    "class Map2Lanes(LaneMap):\n",
    "    def __init__(self):\n",
    "        super().__init__()\n",
    "        self.add_lanes([lane0, lane1])\n",
    "        self.h = h\n",
    "        self.h_exist = h_exist"
   ]
  },
  {
   "cell_type": "markdown",
   "id": "06e598bf",
   "metadata": {},
   "source": [
    "We can then construct the scenario with two agents and simulate/verify the scenario with map we just created and the result is shown as below. "
   ]
  },
  {
   "cell_type": "code",
   "execution_count": null,
   "id": "15cbcc4c",
   "metadata": {},
   "outputs": [],
   "source": [
    "from enum import Enum, auto\n",
    "\n",
    "\n",
    "class AgentMode(Enum):\n",
    "    Normal = auto()\n",
    "    SwitchLeft = auto()\n",
    "    SwitchRight = auto()\n",
    "\n",
    "\n",
    "class TrackMode(Enum):\n",
    "    T0 = auto()\n",
    "    T1 = auto()\n",
    "    M01 = auto()\n",
    "    M10 = auto()\n",
    "\n",
    "\n",
    "from verse.scenario import Scenario\n",
    "\n",
    "scenario = Scenario()\n",
    "scenario.set_map(Map2Lanes())\n",
    "\n",
    "from tutorial_agent import CarAgent\n",
    "\n",
    "car1 = CarAgent(\"car1\", file_name=\"./dl_sec5.py\")\n",
    "car1.set_initial([[0, -0.5, 0, 2], [0.5, 0.5, 0, 2]], (AgentMode.Normal, TrackMode.T0))\n",
    "car2 = CarAgent(\"car2\", file_name=\"./dl_sec5.py\")\n",
    "car2.set_initial([[20, -0.5, 0, 1], [20.5, 0.5, 0, 1]], (AgentMode.Normal, TrackMode.T0))\n",
    "scenario.add_agent(car1)\n",
    "scenario.add_agent(car2)\n",
    "\n",
    "traces_simu = scenario.simulate(30, 0.01)\n",
    "traces_veri = scenario.verify(30, 0.01)\n",
    "\n",
    "import plotly.graph_objects as go\n",
    "from verse.plotter.plotter2D import *\n",
    "\n",
    "fig = go.Figure()\n",
    "fig = simulation_tree(traces_simu, Map2Lanes(), fig, 1, 2, [1, 2], \"lines\", \"trace\")\n",
    "fig.show()\n",
    "\n",
    "fig = go.Figure()\n",
    "fig = reachtube_tree(traces_veri, Map2Lanes(), fig, 1, 2, [1, 2], \"lines\", \"trace\")\n",
    "fig.show()"
   ]
  },
  {
   "cell_type": "markdown",
   "id": "20b8d9d4",
   "metadata": {},
   "source": [
    "# Appendix"
   ]
  },
  {
   "cell_type": "markdown",
   "id": "05815a1c",
   "metadata": {},
   "source": [
    "## Decision Logic Parsing\n",
    "When writing decision logic, one must consider how their Python code will eventually be parsed into a Verse agent's decision logic. \n",
    "\n",
    "One important distinction between Python and Verse logic is that Verse will convert all conditional logic into \"if\"s. \n",
    "For example, this decision logic block written in Python:\n",
    "````python\n",
    "if ego.agent_mode != VehicleMode.Accel and other.signal_mode == TLMode.GREEN:\n",
    "    output.agent_mode = VehicleMode.Accel #accelerate no matter what if green \n",
    "elif ego.agent_mode != VehicleMode.Accel and other.signal_mode == TLMode.GREEN: \n",
    "    output.agent_mode = VehicleMode.HardBrake #checking if elif works\n",
    "elif ego.agent_mode != VehicleMode.Accel and other.signal_mode == TLMode.GREEN:\n",
    "    output.agent_mode = VehicleMode.Normal\n",
    "else:\n",
    "    output.agent_mode = VehicleMode.Accel\n",
    "````\n",
    "is parsed into the following decision logic in Verse*:\n",
    "````python\n",
    "if ((ego.agent_mode != VehicleMode.Accel) and (other.signal_mode == TLMode.GREEN)):\n",
    "    output.agent_mode = VehicleMode.Accel #accelerate no matter what if green \n",
    "if (((ego.agent_mode != VehicleMode.Accel) and (other.signal_mode == TLMode.GREEN)) and (not ((ego.agent_mode != VehicleMode.Accel) and (other.signal_mode == TLMode.GREEN)))): \n",
    "    output.agent_mode = VehicleMode.HardBrake #checking if elif works\n",
    "if (((ego.agent_mode != VehicleMode.Accel) and (other.signal_mode == TLMode.GREEN)) and (not ((ego.agent_mode != VehicleMode.Accel) and (other.signal_mode == TLMode.GREEN))) and (not ((ego.agent_mode != VehicleMode.Accel) and (other.signal_mode == TLMode.GREEN)))):\n",
    "    output.agent_mode = VehicleMode.Normal\n",
    "if ((not ((ego.agent_mode != VehicleMode.Accel) and (other.signal_mode == TLMode.GREEN))) and (not ((ego.agent_mode != VehicleMode.Accel) and (other.signal_mode == TLMode.GREEN))) and (not ((ego.agent_mode != VehicleMode.Accel) and (other.signal_mode == TLMode.GREEN)))):\n",
    "    output.agent_mode = VehicleMode.Accel\n",
    "````\n",
    "*In reality, the Verser parser's decision logic varies a bit more from Python's decision logic. For example, mode names into simply their name, i.e., \"MODE\" instead of Agent.MODE, and the 'if's are more implicitly encoded as paths within the agent's decision logic."
   ]
  },
  {
   "cell_type": "markdown",
   "id": "89bf4495",
   "metadata": {},
   "source": [
    "While this result may seem obvious at first, one can make some important conclusions.\n",
    "\n",
    "First, 'if-elif-else' and 'if-else' blocks partitions the entire set of input parameters. This result means that the agent must transition somewhere within the block and only transition within one condition, which implies that using 'elif's and 'else's means that one is not leverging the nondeterministic decision logic that Verse allows. \n",
    "\n",
    "Second, largely as a consequence of the first conclusion, one must be careful when using 'else' statements. Due to how baseline Verse works, transitions occur instantaneously. Thus, if one lazily writes code that makes the 'else' condition too inclusive, i.e., the 'else' condition transitions the agent state such that in the next decision logic evalution, the 'else' statement is satisfied again, creating a loop. \n",
    "\n",
    "An example of this else condition looping can be seen in the code above. If the 'else' condition is fulfilled, the decision logic transitions the agent to the \"Accel\" state. Once in the \"Accel\" state, since the earlier 'if's and 'elif's check that the agent is not in the \"Accel\" mode, the 'else' condition will be fulfilled again, which will happen infinitely.   \n",
    "\n",
    "If one wants to avoid having to worry about creating such an inclusive 'else' condition, one should just avoid using 'else' statements altogether. "
   ]
  }
 ],
 "metadata": {
  "kernelspec": {
   "display_name": ".venv",
   "language": "python",
   "name": "python3"
  },
  "language_info": {
   "codemirror_mode": {
    "name": "ipython",
    "version": 3
   },
   "file_extension": ".py",
   "mimetype": "text/x-python",
   "name": "python",
   "nbconvert_exporter": "python",
   "pygments_lexer": "ipython3",
   "version": "3.9.19"
  },
  "widgets": {
   "application/vnd.jupyter.widget-state+json": {
    "state": {},
    "version_major": 2,
    "version_minor": 0
   }
  }
 },
 "nbformat": 4,
 "nbformat_minor": 5
}
